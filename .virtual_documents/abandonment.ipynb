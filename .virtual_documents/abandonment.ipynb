#import all required modules
from ultralytics import YOLO


#load model for training
model = YOLO('yolov8m.pt')


#train model
result = model.train(data='./data/abandonment.yaml', epochs=50, imgsz=640, batch=64, device=[0], project='person')


model = YOLO('./person/train4/weights/last.pt')
model.export(format="onnx")


from glob import glob
import pandas as pd


# import glob

def modify_file_content(file_path):
    # Open the file and read lines
    with open(file_path, 'r') as file:
        lines = file.readlines()
    
    # Modify the first value in each line to '1' while keeping the rest of the line intact
    modified_lines = []
    for line in lines:
        parts = line.split()
        parts[0] = '1'  # Change the first element to '1'
        modified_line = ' '.join(parts) + '\n'
        modified_lines.append(modified_line)
    # print(modified_lines)
    # # Write the modified content back to the file
    with open(file_path, 'w') as file:
        file.writelines(modified_lines)


files = glob('./datasets/abandonment/valid/labels/INC*.txt')
for idx, file_path in enumerate(files):
    modify_file_content(file_path)






